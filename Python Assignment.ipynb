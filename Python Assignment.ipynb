{
 "cells": [
  {
   "cell_type": "code",
   "execution_count": 1,
   "id": "ac422047-357f-4a79-a0e5-a6e91a813ef6",
   "metadata": {},
   "outputs": [
    {
     "name": "stdout",
     "output_type": "stream",
     "text": [
      "1\n",
      "2\n",
      "3\n",
      "4\n",
      "5\n",
      "6\n",
      "7\n",
      "8\n",
      "9\n",
      "10\n"
     ]
    }
   ],
   "source": [
    "#1. Print numbers from 1 to 10:\n",
    "for i in range(1, 11):\n",
    "    print(i)"
   ]
  },
  {
   "cell_type": "code",
   "execution_count": 2,
   "id": "731c267e-67ed-44ab-97e1-cb3244b7175e",
   "metadata": {},
   "outputs": [
    {
     "data": {
      "text/plain": [
       "'2. Difference between for loop and while loop:\\n\\nFor loop: Used when the number of iterations is known beforehand. Iterates over a sequence (e.g., list, string, range).\\nWhile loop: Used when the number of iterations is unknown. Continues to execute as long as a condition is true.'"
      ]
     },
     "execution_count": 2,
     "metadata": {},
     "output_type": "execute_result"
    }
   ],
   "source": [
    "'''2. Difference between for loop and while loop:\n",
    "\n",
    "For loop: Used when the number of iterations is known beforehand. Iterates over a sequence (e.g., list, string, range).\n",
    "While loop: Used when the number of iterations is unknown. Continues to execute as long as a condition is true.'''"
   ]
  },
  {
   "cell_type": "code",
   "execution_count": 3,
   "id": "7544f0cb-9a0a-4e5d-b69d-b5af3af24820",
   "metadata": {},
   "outputs": [
    {
     "name": "stdout",
     "output_type": "stream",
     "text": [
      "5050\n"
     ]
    }
   ],
   "source": [
    "#3. Calculate the sum of numbers from 1 to 100:\n",
    "sum = 0\n",
    "for i in range(1, 101):\n",
    "    sum += i\n",
    "print(sum)"
   ]
  },
  {
   "cell_type": "code",
   "execution_count": 4,
   "id": "6e5af270-512a-48e3-b45c-7ce051e49239",
   "metadata": {},
   "outputs": [],
   "source": [
    "#4. Iterate through a list:"
   ]
  },
  {
   "cell_type": "code",
   "execution_count": 6,
   "id": "5926042a-ef39-472f-8ade-d42d6f30a9bb",
   "metadata": {},
   "outputs": [
    {
     "name": "stdout",
     "output_type": "stream",
     "text": [
      "1\n",
      "2\n",
      "3\n",
      "4\n",
      "5\n"
     ]
    }
   ],
   "source": [
    "my_list = [1, 2, 3, 4, 5]\n",
    "for item in my_list:\n",
    "    print(item)"
   ]
  },
  {
   "cell_type": "code",
   "execution_count": 7,
   "id": "75b12088-0758-4474-8b0f-1563f107ae92",
   "metadata": {},
   "outputs": [],
   "source": [
    "#5. Find the product of elements in a list:"
   ]
  },
  {
   "cell_type": "code",
   "execution_count": 12,
   "id": "b8383dec-3954-49ea-b0d3-ee471ea0eb78",
   "metadata": {},
   "outputs": [
    {
     "name": "stdout",
     "output_type": "stream",
     "text": [
      "120\n"
     ]
    }
   ],
   "source": [
    "my_list = [1, 2, 3, 4, 5]\n",
    "product = 1\n",
    "for item in my_list:\n",
    "    product *= item\n",
    "print(product)"
   ]
  },
  {
   "cell_type": "code",
   "execution_count": 13,
   "id": "551b679e-8743-4c3b-a0cb-9bc1dbb795ba",
   "metadata": {},
   "outputs": [],
   "source": [
    "#6. Print even numbers from 1 to 20:"
   ]
  },
  {
   "cell_type": "code",
   "execution_count": 11,
   "id": "aaa7cef3-1c32-4ae9-8c90-f9120aebd818",
   "metadata": {},
   "outputs": [
    {
     "name": "stdout",
     "output_type": "stream",
     "text": [
      "2\n",
      "4\n",
      "6\n",
      "8\n",
      "10\n",
      "12\n",
      "14\n",
      "16\n",
      "18\n",
      "20\n"
     ]
    }
   ],
   "source": [
    "for i in range(2, 21, 2):\n",
    "    print(i)"
   ]
  },
  {
   "cell_type": "code",
   "execution_count": 14,
   "id": "797e8009-dceb-4c96-837b-c437937d5e4e",
   "metadata": {},
   "outputs": [],
   "source": [
    "#7. Calculate the factorial of a number:"
   ]
  },
  {
   "cell_type": "code",
   "execution_count": 15,
   "id": "3f9ffac7-ff4a-4802-8859-411e21a1489f",
   "metadata": {},
   "outputs": [
    {
     "name": "stdout",
     "output_type": "stream",
     "text": [
      "120\n"
     ]
    }
   ],
   "source": [
    "num = 5\n",
    "factorial = 1\n",
    "for i in range(1, num + 1):\n",
    "    factorial *= i\n",
    "print(factorial)"
   ]
  },
  {
   "cell_type": "code",
   "execution_count": 16,
   "id": "082353ba-109d-44b8-ba35-b8f8d4e24c0a",
   "metadata": {},
   "outputs": [],
   "source": [
    "#8. Iterate through characters of a string:"
   ]
  },
  {
   "cell_type": "code",
   "execution_count": 17,
   "id": "160a3a04-f2e6-4321-8894-583febf333b3",
   "metadata": {},
   "outputs": [
    {
     "name": "stdout",
     "output_type": "stream",
     "text": [
      "H\n",
      "e\n",
      "l\n",
      "l\n",
      "o\n",
      ",\n",
      " \n",
      "w\n",
      "o\n",
      "r\n",
      "l\n",
      "d\n",
      "!\n"
     ]
    }
   ],
   "source": [
    "my_string = \"Hello, world!\"\n",
    "for char in my_string:\n",
    "    print(char)"
   ]
  },
  {
   "cell_type": "code",
   "execution_count": 20,
   "id": "3237a4a4-7628-4c70-b768-1c1faeb56926",
   "metadata": {},
   "outputs": [],
   "source": [
    "#9. Find the largest number in a list:"
   ]
  },
  {
   "cell_type": "code",
   "execution_count": 21,
   "id": "0e2b90ab-85ca-4cff-9ae6-6c62b5b51dce",
   "metadata": {},
   "outputs": [
    {
     "name": "stdout",
     "output_type": "stream",
     "text": [
      "20\n"
     ]
    }
   ],
   "source": [
    "my_list = [10, 5, 20, 8, 15]\n",
    "largest = my_list[0]\n",
    "for item in my_list:\n",
    "    if item > largest:\n",
    "        largest = item\n",
    "print(largest)"
   ]
  },
  {
   "cell_type": "code",
   "execution_count": 22,
   "id": "baf502f4-6057-402f-ada6-3b8f4f084185",
   "metadata": {},
   "outputs": [],
   "source": [
    "#10. Print Fibonacci sequence:"
   ]
  },
  {
   "cell_type": "code",
   "execution_count": 23,
   "id": "d6816051-8c79-4335-97b7-e1e5a4938ec0",
   "metadata": {},
   "outputs": [
    {
     "name": "stdout",
     "output_type": "stream",
     "text": [
      "0\n",
      "1\n",
      "1\n",
      "2\n",
      "3\n",
      "5\n",
      "8\n",
      "13\n",
      "21\n",
      "34\n"
     ]
    }
   ],
   "source": [
    "limit = 10\n",
    "a, b = 0, 1\n",
    "for i in range(0, limit):\n",
    "    print(a)\n",
    "    a, b = b, a + b"
   ]
  },
  {
   "cell_type": "code",
   "execution_count": 24,
   "id": "431402f7-937e-4d84-bc7c-d2686c12ac9a",
   "metadata": {},
   "outputs": [],
   "source": [
    "#11. Count vowels in a string"
   ]
  },
  {
   "cell_type": "code",
   "execution_count": null,
   "id": "6e34ccb6-bfea-4701-a9e3-e6606ccbf8e2",
   "metadata": {},
   "outputs": [],
   "source": [
    "my_string = \"Hello, world!\"\n",
    "vowel_count = 0\n",
    "vowels = \"aeiouAEIOU\"\n",
    "for char in my_string:\n",
    "    if char in vowels:\n",
    "        vowel_count += 1\n",
    "print(vowel_count)"
   ]
  },
  {
   "cell_type": "code",
   "execution_count": 25,
   "id": "c55af30a-60e7-42f4-a011-195354395397",
   "metadata": {},
   "outputs": [],
   "source": [
    "#12. Generate multiplication table:a"
   ]
  },
  {
   "cell_type": "code",
   "execution_count": 26,
   "id": "4befcbcd-60d2-4067-9705-2a947b1a5ca4",
   "metadata": {},
   "outputs": [
    {
     "name": "stdout",
     "output_type": "stream",
     "text": [
      "5 x 1 = 5\n",
      "5 x 2 = 10\n",
      "5 x 3 = 15\n",
      "5 x 4 = 20\n",
      "5 x 5 = 25\n",
      "5 x 6 = 30\n",
      "5 x 7 = 35\n",
      "5 x 8 = 40\n",
      "5 x 9 = 45\n",
      "5 x 10 = 50\n"
     ]
    }
   ],
   "source": [
    "num = 5\n",
    "for i in range(1, 11):\n",
    "    product = num * i\n",
    "    print(f\"{num} x {i} = {product}\")"
   ]
  },
  {
   "cell_type": "code",
   "execution_count": 27,
   "id": "3801bd31-53a3-4c3c-a8df-2e234c6eed03",
   "metadata": {},
   "outputs": [],
   "source": [
    "#13. Reverse a list:"
   ]
  },
  {
   "cell_type": "code",
   "execution_count": 28,
   "id": "78841099-7698-4a36-94ee-a321c91d5b8a",
   "metadata": {},
   "outputs": [
    {
     "name": "stdout",
     "output_type": "stream",
     "text": [
      "[5, 4, 3, 2, 1]\n"
     ]
    }
   ],
   "source": [
    "my_list = [1, 2, 3, 4, 5]\n",
    "reversed_list = []\n",
    "for i in range(len(my_list) - 1, -1, -1):\n",
    "    reversed_list.append(my_list[i])\n",
    "print(reversed_list)"
   ]
  },
  {
   "cell_type": "code",
   "execution_count": 29,
   "id": "4bdc4a17-dea8-4f24-9091-19bc9e7dd933",
   "metadata": {},
   "outputs": [],
   "source": [
    "#14. Find common elements between two lists:"
   ]
  },
  {
   "cell_type": "code",
   "execution_count": 30,
   "id": "99528e14-4260-41e3-8cf3-1932da5f4969",
   "metadata": {},
   "outputs": [
    {
     "name": "stdout",
     "output_type": "stream",
     "text": [
      "[3, 4, 5]\n"
     ]
    }
   ],
   "source": [
    "list1 = [1, 2, 3, 4, 5]\n",
    "list2 = [3, 4, 5, 6, 7]\n",
    "common_elements = []\n",
    "for item in list1:\n",
    "    if item in list2:\n",
    "        common_elements.append(item)\n",
    "print(common_elements)"
   ]
  },
  {
   "cell_type": "code",
   "execution_count": 31,
   "id": "0305fbf9-9053-43c1-8bf6-5e6b1fe3a466",
   "metadata": {},
   "outputs": [],
   "source": [
    "#15. Iterate through keys and values of a dictionary:"
   ]
  },
  {
   "cell_type": "code",
   "execution_count": 32,
   "id": "8cfe1630-1f14-4392-bc92-63b99e40ef40",
   "metadata": {},
   "outputs": [
    {
     "name": "stdout",
     "output_type": "stream",
     "text": [
      "name Alice\n",
      "age 30\n",
      "city New York\n"
     ]
    }
   ],
   "source": [
    "my_dict = {\"name\": \"Alice\", \"age\": 30, \"city\": \"New York\"}\n",
    "for key, value in my_dict.items():\n",
    "    print(key, value)"
   ]
  },
  {
   "cell_type": "code",
   "execution_count": 33,
   "id": "db25dd44-01d9-495f-9f5e-74085e2fb03d",
   "metadata": {},
   "outputs": [],
   "source": [
    "#16. Find GCD of two numbers:"
   ]
  },
  {
   "cell_type": "code",
   "execution_count": 34,
   "id": "e76abf31-2d9e-4bea-b14c-b605bd5a66b7",
   "metadata": {},
   "outputs": [
    {
     "name": "stdout",
     "output_type": "stream",
     "text": [
      "6\n"
     ]
    }
   ],
   "source": [
    "num1 = 24\n",
    "num2 = 18\n",
    "gcd = 1\n",
    "for i in range(1, min(num1, num2) + 1):\n",
    "    if num1 % i == 0 and num2 % i == 0:\n",
    "        gcd = i\n",
    "print(gcd)"
   ]
  },
  {
   "cell_type": "code",
   "execution_count": 35,
   "id": "4162520b-1e56-4b0e-a2db-beb833bc3e1e",
   "metadata": {},
   "outputs": [],
   "source": [
    "#17. Check if a string is a palindrome:"
   ]
  },
  {
   "cell_type": "code",
   "execution_count": 36,
   "id": "e71ec0ae-b00b-470b-a969-cb92875e36b8",
   "metadata": {},
   "outputs": [
    {
     "name": "stdout",
     "output_type": "stream",
     "text": [
      "True\n"
     ]
    }
   ],
   "source": [
    "my_string = \"racecar\"\n",
    "is_palindrome = True\n",
    "for i in range(len(my_string) // 2):\n",
    "    if my_string[i] != my_string[len(my_string) - i - 1]:\n",
    "        is_palindrome = False\n",
    "        break\n",
    "print(is_palindrome)"
   ]
  },
  {
   "cell_type": "code",
   "execution_count": 37,
   "id": "d567c937-664a-46ae-ab0b-e1461b135060",
   "metadata": {},
   "outputs": [],
   "source": [
    "#18. Remove duplicates from a list:"
   ]
  },
  {
   "cell_type": "code",
   "execution_count": 38,
   "id": "92b4a1b5-bd04-4312-b82a-506ac003e2dc",
   "metadata": {},
   "outputs": [
    {
     "name": "stdout",
     "output_type": "stream",
     "text": [
      "[1, 2, 3, 4, 5]\n"
     ]
    }
   ],
   "source": [
    "my_list = [1, 2, 2, 3, 4, 4, 5]\n",
    "unique_list = []\n",
    "for item in my_list:\n",
    "    if item not in unique_list:\n",
    "        unique_list.append(item)\n",
    "print(unique_list)"
   ]
  },
  {
   "cell_type": "code",
   "execution_count": 39,
   "id": "dcd46fc8-ed83-4281-8682-2dd89fc5771c",
   "metadata": {},
   "outputs": [],
   "source": [
    "#19. Count words in a sentence:"
   ]
  },
  {
   "cell_type": "code",
   "execution_count": 40,
   "id": "66113c0b-e0a2-414b-91e6-828a2e0b8a83",
   "metadata": {},
   "outputs": [
    {
     "name": "stdout",
     "output_type": "stream",
     "text": [
      "5\n"
     ]
    }
   ],
   "source": [
    "sentence = \"This is a sample sentence.\"\n",
    "word_count = 1\n",
    "for char in sentence:\n",
    "    if char == \" \":\n",
    "        word_count += 1\n",
    "print(word_count)"
   ]
  },
  {
   "cell_type": "code",
   "execution_count": 41,
   "id": "0fc47d1b-775c-451a-9fd4-570382b4d9df",
   "metadata": {},
   "outputs": [],
   "source": [
    "#20. Sum of odd numbers from 1 to 50:"
   ]
  },
  {
   "cell_type": "code",
   "execution_count": 42,
   "id": "ecace7ec-c4a8-4804-89c6-63fdf2999e73",
   "metadata": {},
   "outputs": [
    {
     "name": "stdout",
     "output_type": "stream",
     "text": [
      "625\n"
     ]
    }
   ],
   "source": [
    "sum = 0\n",
    "for i in range(1, 51, 2):\n",
    "    sum += i\n",
    "print(sum)"
   ]
  },
  {
   "cell_type": "code",
   "execution_count": 43,
   "id": "cbd4b1a7-f916-43d2-843e-787b23f0563d",
   "metadata": {},
   "outputs": [],
   "source": [
    "#21. Check if a year is a leap year:"
   ]
  },
  {
   "cell_type": "code",
   "execution_count": 44,
   "id": "06af96ad-87f5-4988-9595-a23a043e9bec",
   "metadata": {},
   "outputs": [
    {
     "name": "stdout",
     "output_type": "stream",
     "text": [
      "True\n"
     ]
    }
   ],
   "source": [
    "year = 2024\n",
    "is_leap_year = False\n",
    "if year % 4 == 0:\n",
    "    if year % 100 == 0:\n",
    "        if year % 400 == 0:\n",
    "            is_leap_year = True\n",
    "    else:\n",
    "        is_leap_year = True\n",
    "print(is_leap_year)"
   ]
  },
  {
   "cell_type": "code",
   "execution_count": 45,
   "id": "5f3a40c5-a8c3-4616-88a8-7c88b3ec5148",
   "metadata": {},
   "outputs": [],
   "source": [
    "#22. Calculate square root:"
   ]
  },
  {
   "cell_type": "code",
   "execution_count": 46,
   "id": "197c30d7-b28a-477d-8098-64a41c5a5d90",
   "metadata": {},
   "outputs": [
    {
     "name": "stdout",
     "output_type": "stream",
     "text": [
      "4.0\n"
     ]
    }
   ],
   "source": [
    "number = 16\n",
    "guess = 1\n",
    "while guess * guess != number:\n",
    "    guess = (guess + number / guess) / 2\n",
    "print(guess)"
   ]
  },
  {
   "cell_type": "code",
   "execution_count": 47,
   "id": "eaf30d2c-ef4a-48d5-b6c7-fcc0a0242a92",
   "metadata": {},
   "outputs": [],
   "source": [
    "#23. Find LCM of two numbers:"
   ]
  },
  {
   "cell_type": "code",
   "execution_count": 48,
   "id": "bf57acaa-9c54-4166-8345-e3d27d08aa41",
   "metadata": {},
   "outputs": [
    {
     "name": "stdout",
     "output_type": "stream",
     "text": [
      "36\n"
     ]
    }
   ],
   "source": [
    "num1 = 12\n",
    "num2 = 18\n",
    "lcm = max(num1, num2)\n",
    "while True:\n",
    "    if lcm % num1 == 0 and lcm % num2 == 0:\n",
    "        break\n",
    "    lcm += 1\n",
    "print(lcm)"
   ]
  },
  {
   "cell_type": "code",
   "execution_count": 75,
   "id": "31de16e3-a555-49b9-9195-13acf6ddb416",
   "metadata": {},
   "outputs": [
    {
     "name": "stdin",
     "output_type": "stream",
     "text": [
      "Enter a number:  2\n"
     ]
    },
    {
     "name": "stdout",
     "output_type": "stream",
     "text": [
      "Positive\n"
     ]
    }
   ],
   "source": [
    "#1.\tWrite a Python program to check if a number is positive, negative, or zero using an if-else statement.\n",
    "num = int(input(\"Enter a number: \"))\n",
    "\n",
    "if num > 0:\n",
    "    print(\"Positive\")\n",
    "elif num < 0:\n",
    "    print(\"Negative\")\n",
    "else:\n",
    "    print(\"Zero\")\n"
   ]
  },
  {
   "cell_type": "code",
   "execution_count": 50,
   "id": "15dc776c-66a5-4c0b-a0b0-90a742645052",
   "metadata": {},
   "outputs": [],
   "source": [
    "#2.\tCreate a Python program that checks if a given number is even or odd using an if-else statement.\n",
    "\n",
    "num = int(input(\"Enter a number: \"))\n",
    "\n",
    "if num % 2 == 0:\n",
    "    print(\"Even\")\n",
    "else:\n",
    "    print(\"Odd\")"
   ]
  },
  {
   "cell_type": "code",
   "execution_count": 51,
   "id": "e19a38b7-3adc-4a57-b7d0-bb2248dae146",
   "metadata": {},
   "outputs": [],
   "source": [
    "#3.\tHow can you use nested if-else statements in Python, and provide an example?\n",
    "\n",
    "age = int(input(\"Enter your age: \"))\n",
    "\n",
    "if age >= 18:\n",
    "    if age >= 65:\n",
    "        print(\"You are a senior citizen.\")\n",
    "    else:\n",
    "        print(\"You are an adult.\")\n",
    "else:\n",
    "    print(\"You are a minor.\")"
   ]
  },
  {
   "cell_type": "code",
   "execution_count": 52,
   "id": "c301201d-7ce5-4e6e-8b60-5555cf83a644",
   "metadata": {},
   "outputs": [],
   "source": [
    "##4.\tWrite a Python program to determine the largest of three numbers using if-else.\n",
    "num1 = int(input(\"Enter the first number: \"))\n",
    "num2 = int(input(\"Enter the second number: \"))\n",
    "num3 = int(input(\"Enter the third number: \"))\n",
    "\n",
    "if num1 >= num2 and num1 >= num3:\n",
    "    largest = num1\n",
    "elif num2 >= num1 and num2 >= num3:\n",
    "    largest = num2\n",
    "else:\n",
    "    largest = num3\n",
    "\n",
    "print(\"The largest number is:\", largest)"
   ]
  },
  {
   "cell_type": "code",
   "execution_count": 53,
   "id": "1c347d1b-07c8-4bb3-b5c1-1c6f13bd6a3a",
   "metadata": {},
   "outputs": [],
   "source": [
    "#5.\tWrite a Python program that calculates the absolute value of a number using if-else.\n",
    "num = int(input(\"Enter a number: \"))\n",
    "\n",
    "if num >= 0:\n",
    "    absolute_value = num\n",
    "else:\n",
    "    absolute_value = -num\n",
    "\n",
    "print(\"The absolute value is:\", absolute_value)"
   ]
  },
  {
   "cell_type": "code",
   "execution_count": 54,
   "id": "fc2a3573-c574-46b4-b82f-cb05ea493226",
   "metadata": {},
   "outputs": [],
   "source": [
    "##6.\tCreate a Python program that checks if a given character is a vowel or consonant using if-else.\n",
    "char = input(\"Enter a character: \")\n",
    "\n",
    "vowels = \"aeiouAEIOU\"\n",
    "\n",
    "if char in vowels:\n",
    "    print(\"Vowel\")\n",
    "else:\n",
    "    print(\"Consonant\")"
   ]
  },
  {
   "cell_type": "code",
   "execution_count": 56,
   "id": "ea8c6fd8-b4e0-4f6a-bcc9-d897adf260db",
   "metadata": {},
   "outputs": [],
   "source": [
    "#7.\tWrite a Python program to determine if a user is eligible to vote based on their age using if-else.\n",
    "age = int(input(\"Enter your age: \"))\n",
    "\n",
    "if age >= 18:\n",
    "    print(\"You are eligible to vote.\")\n",
    "else:\n",
    "    print(\"You are not eligible to vote.\")"
   ]
  },
  {
   "cell_type": "code",
   "execution_count": 57,
   "id": "fb6f54cf-816f-4dc3-89fc-12b6be9530b3",
   "metadata": {},
   "outputs": [],
   "source": [
    "#8.\tCreate a Python program that calculates the discount amount based on the purchase amount using if-else.\n",
    "purchase_amount = float(input(\"Enter the purchase amount: \"))\n",
    "\n",
    "if purchase_amount >= 1000:\n",
    "    discount = 0.1 * purchase_amount\n",
    "else:\n",
    "    discount = 0.05 * purchase_amount\n",
    "\n",
    "print(\"Discount amount:\", discount)"
   ]
  },
  {
   "cell_type": "code",
   "execution_count": 58,
   "id": "e7f863c4-d607-4a8c-a43c-6a8030f2071c",
   "metadata": {},
   "outputs": [],
   "source": [
    "#9.\tWrite a Python program to check if a number is within a specified range using if-else.\n",
    "num = int(input(\"Enter a number: \"))\n",
    "lower_bound = 10\n",
    "upper_bound = 20\n",
    "\n",
    "if num >= lower_bound and num <= upper_bound:\n",
    "    print(\"Number is within the range.\")\n",
    "else:\n",
    "    print(\"Number is outside the range.\")"
   ]
  },
  {
   "cell_type": "code",
   "execution_count": 59,
   "id": "41ee4171-e171-4c5a-92ea-c32199f32819",
   "metadata": {},
   "outputs": [],
   "source": [
    "#10.\tCreate a Python program that determines the grade of a student based on their score using if-else.\n",
    "score = float(input(\"Enter the student's score: \"))\n",
    "\n",
    "if score >= 90:\n",
    "    grade = \"A\"\n",
    "elif score >= 80:\n",
    "    grade = \"B\"\n",
    "elif score >= 70:\n",
    "    grade = \"C\"\n",
    "elif score >= 60:\n",
    "    grade = \"D\"\n",
    "else:\n",
    "    grade = \"F\"\n",
    "\n",
    "print(\"Grade:\", grade)"
   ]
  },
  {
   "cell_type": "code",
   "execution_count": 60,
   "id": "b222c744-a044-4f71-bf4f-5cc7027a98b6",
   "metadata": {},
   "outputs": [],
   "source": [
    "#11.\tWrite a Python program to check if a string is empty or not using if-else.\n",
    "string = input(\"Enter a string: \")\n",
    "\n",
    "if string == \"\":\n",
    "    print(\"String is empty.\")\n",
    "else:\n",
    "    print(\"String is not empty.\")"
   ]
  },
  {
   "cell_type": "code",
   "execution_count": 61,
   "id": "3ca40e91-df4b-48ba-8521-fa9096777cff",
   "metadata": {},
   "outputs": [],
   "source": [
    "#12.\tCreate a Python program that identifies the type of a triangle (e.g., equilateral, isosceles, or scalene) based on input values using if-else.\n",
    "side1 = float(input(\"Enter the length of side 1: \"))\n",
    "side2 = float(input(\"Enter the length of side 2: \"))\n",
    "side3 = float(input(\"Enter the length of side 3: \"))\n",
    "\n",
    "if side1 == side2 == side3:\n",
    "    print(\"Equilateral triangle\")\n",
    "elif side1 == side2 or side2 == side3 or side3 == side1:\n",
    "    print(\"Isosceles triangle\")\n",
    "else:\n",
    "    print(\"Scalene triangle\")"
   ]
  },
  {
   "cell_type": "code",
   "execution_count": 62,
   "id": "7ccad346-564d-424d-86c7-896b2ae12c19",
   "metadata": {},
   "outputs": [],
   "source": [
    "#13.\tWrite a Python program to determine the day of the week based on a user-provided number using if-else.\n",
    "day_number = int(input(\"Enter the day number (1-7): \"))\n",
    "\n",
    "if day_number == 1:\n",
    "    print(\"Monday\")\n",
    "elif day_number == 2:\n",
    "    print(\"Tuesday\")\n",
    "elif day_number == 3:\n",
    "    print(\"Wednesday\")\n",
    "elif day_number == 4:\n",
    "    print(\"Thursday\")\n",
    "elif day_number == 5:\n",
    "    print(\"Friday\")\n",
    "elif day_number == 6:\n",
    "    print(\"Saturday\")\n",
    "elif day_number == 7:\n",
    "    print(\"Sunday\")\n",
    "else:\n",
    "    print(\"Invalid day number\")"
   ]
  },
  {
   "cell_type": "code",
   "execution_count": 63,
   "id": "5f10d478-b11e-4879-84cf-f388f60da2a0",
   "metadata": {},
   "outputs": [],
   "source": [
    "#14.\tCreate a Python program that checks if a given year is a leap year using both if-else and a function.\n",
    "year = int(input(\"Enter a year: \"))\n",
    "\n",
    "if year % 4 == 0:\n",
    "    if year % 100 == 0:\n",
    "        if year % 400 == 0:\n",
    "            print(\"Leap year\")\n",
    "        else:\n",
    "            print(\"Not a leap year\")\n",
    "    else:\n",
    "        print(\"Leap year\")\n",
    "else:\n",
    "    print(\"Not a leap year\")"
   ]
  },
  {
   "cell_type": "code",
   "execution_count": 64,
   "id": "65240a3e-65e9-4ad6-a158-79ed921b4117",
   "metadata": {},
   "outputs": [],
   "source": [
    "#15.\tHow do you use the \"assert\" statement in Python to add debugging checks within if-else blocks?\n",
    "age = int(input(\"Enter your age: \"))\n",
    "\n",
    "assert age >= 0, \"Age cannot be negative\"\n",
    "\n",
    "if age >= 18:\n",
    "    print(\"You are eligible to vote.\")\n",
    "else:\n",
    "    print(\"You are not eligible to vote.\")"
   ]
  },
  {
   "cell_type": "code",
   "execution_count": 65,
   "id": "27ae5233-c59e-4d07-9fe6-0a7a83a8fb35",
   "metadata": {},
   "outputs": [],
   "source": [
    "#16.\tCreate a Python program that determines the eligibility of a person for a senior citizen discount based on age using if-else.\n",
    "age = int(input(\"Enter your age: \"))\n",
    "\n",
    "if age >= 65:\n",
    "    print(\"You are eligible for a senior citizen discount.\")\n",
    "else:\n",
    "    print(\"You are not eligible for a senior citizen discount.\")"
   ]
  },
  {
   "cell_type": "code",
   "execution_count": 66,
   "id": "3772c1d8-cd9d-4bbb-a71c-b50f74317d99",
   "metadata": {},
   "outputs": [],
   "source": [
    "#17.\tWrite a Python program to categorize a given character as uppercase, lowercase, or neither using if-else.\n",
    "char = input(\"Enter a character: \")\n",
    "\n",
    "if char.isupper():\n",
    "    print(\"Uppercase\")\n",
    "elif char.islower():\n",
    "    print(\"Lowercase\")\n",
    "else:\n",
    "    print(\"Neither uppercase nor lowercase\")"
   ]
  },
  {
   "cell_type": "code",
   "execution_count": 68,
   "id": "d4c3d20f-9662-46c7-9997-f092e3bd3b7e",
   "metadata": {},
   "outputs": [],
   "source": [
    "#18.\tWrite a Python program to determine the roots of a quadratic equation using if-else.\n",
    "a = float(input(\"Enter the coefficient of x^2: \"))\n",
    "b = float(input(\"Enter the coefficient of x: \"))\n",
    "c = float(input(\"Enter the constant term: \"))\n",
    "\n",
    "discriminant = b * b - 4 * a * c\n",
    "\n",
    "if discriminant > 0:\n",
    "    root1 = (-b + math.sqrt(discriminant)) / (2 * a)\n",
    "    root2 = (-b - math.sqrt(discriminant)) / (2 * a)\n",
    "    print(\"Two real roots:\", root1, root2)\n",
    "elif discriminant == 0:\n",
    "    root = -b / (2 * a)\n",
    "    print(\"One real root:\", root)\n",
    "else:\n",
    "    print(\"No real roots\")"
   ]
  },
  {
   "cell_type": "code",
   "execution_count": 69,
   "id": "fdc945e3-0a0e-46a3-a572-2be3b233cf7f",
   "metadata": {},
   "outputs": [],
   "source": [
    "#19.\tCreate a Python program that checks if a given year is a century year or not using if-else.\n",
    "year = int(input(\"Enter a year: \"))\n",
    "\n",
    "if year % 100 == 0:\n",
    "    print(\"Century year\")\n",
    "else:\n",
    "    print(\"Not a century year\")"
   ]
  },
  {
   "cell_type": "code",
   "execution_count": 70,
   "id": "21ce366f-b949-4633-a954-6b5d92eadeca",
   "metadata": {},
   "outputs": [],
   "source": [
    "#20.\tWrite a Python program to determine if a given number is a perfect square using if-else.\n",
    "num = int(input(\"Enter a number: \"))\n",
    "\n",
    "if int(math.sqrt(num)) ** 2 == num:\n",
    "    print(\"Perfect square\")\n",
    "else:\n",
    "    print(\"Not a perfect square\")"
   ]
  },
  {
   "cell_type": "code",
   "execution_count": 71,
   "id": "68769b4b-50f7-423d-b873-cce2a78b5862",
   "metadata": {},
   "outputs": [],
   "source": [
    "#21.\tExplain the purpose of the \"continue\" and \"break\" statements within if-else loops.\n",
    "Purpose of \"continue\" and \"break\" statements\n",
    "\n",
    "continue: Skips the current iteration of the loop and proceeds to the next iteration.\n",
    "break: Terminates the loop entirely, even if the loop condition is still true."
   ]
  },
  {
   "cell_type": "code",
   "execution_count": 72,
   "id": "0dd796ce-fba6-4948-aa9d-57aae5a0e8ae",
   "metadata": {},
   "outputs": [],
   "source": [
    "#22.\tCreate a Python program that calculates the BMI (Body Mass Index) of a person based on their weight and height using if-else.\n",
    "weight = float(input(\"Enter your weight in kilograms: \"))\n",
    "height = float(input(\"Enter your height in meters: \"))\n",
    "\n",
    "bmi = weight / (height * height)\n",
    "\n",
    "if bmi < 18.5:\n",
    "    print(\"Underweight\")\n",
    "elif bmi >= 18.5 and bmi < 25:\n",
    "    print(\"Normal weight\")\n",
    "elif bmi >= 25 and bmi < 30:\n",
    "    print(\"Overweight\")\n",
    "else:\n",
    "    print(\"Obese\")"
   ]
  },
  {
   "cell_type": "code",
   "execution_count": 73,
   "id": "83221728-c1ff-427e-905a-7978ca500cc6",
   "metadata": {},
   "outputs": [],
   "source": [
    "#23.\tHow can you use the \"filter()\" function with if-else statements to filter elements from a list?\n",
    "numbers = [1, 2, 3, 4, 5, 6, 7, 8, 9, 10]\n",
    "\n",
    "even_numbers = list(filter(lambda x: x % 2 == 0, numbers))\n",
    "print(even_numbers)"
   ]
  },
  {
   "cell_type": "code",
   "execution_count": 76,
   "id": "129ec3b5-2101-4ad9-ba95-0eb854de953a",
   "metadata": {},
   "outputs": [
    {
     "name": "stdout",
     "output_type": "stream",
     "text": [
      "[2, 4, 6, 8, 10]\n"
     ]
    }
   ],
   "source": [
    "#24.\tWrite a Python program to determine if a given number is prime or not using if-else.\n",
    "numbers = [1, 2, 3, 4, 5, 6, 7, 8, 9, 10]\n",
    "\n",
    "even_numbers = list(filter(lambda x: x % 2 == 0, numbers))\n",
    "print(even_numbers)"
   ]
  },
  {
   "cell_type": "code",
   "execution_count": 141,
   "id": "7cd6580a-1445-4135-9e82-d59a4823aa9d",
   "metadata": {},
   "outputs": [
    {
     "name": "stdout",
     "output_type": "stream",
     "text": [
      "[1, 4, 9, 16, 25]\n"
     ]
    }
   ],
   "source": [
    "def square(x):\n",
    "    return x**2\n",
    "\n",
    "numbers = [1, 2, 3, 4, 5]\n",
    "squared_numbers = map(square, numbers)\n",
    "print(list(squared_numbers))  "
   ]
  },
  {
   "cell_type": "code",
   "execution_count": 78,
   "id": "89192bb1-6df6-4969-adb9-6ca552108990",
   "metadata": {},
   "outputs": [
    {
     "name": "stdout",
     "output_type": "stream",
     "text": [
      "[1, 4, 9, 16, 25]\n"
     ]
    }
   ],
   "source": [
    "numbers = [1, 2, 3, 4, 5]\n",
    "squared_numbers = map(lambda x: x**2, numbers)\n",
    "print(list(squared_numbers))"
   ]
  },
  {
   "cell_type": "code",
   "execution_count": 79,
   "id": "837bdfbd-8617-4db0-8e90-0b3ed3c117f3",
   "metadata": {},
   "outputs": [
    {
     "ename": "SyntaxError",
     "evalue": "invalid syntax (1807735146.py, line 1)",
     "output_type": "error",
     "traceback": [
      "\u001b[1;36m  Cell \u001b[1;32mIn[79], line 1\u001b[1;36m\u001b[0m\n\u001b[1;33m    Both map() and list comprehensions achieve similar results, but they have different syntax and underlying mechanisms:\u001b[0m\n\u001b[1;37m         ^\u001b[0m\n\u001b[1;31mSyntaxError\u001b[0m\u001b[1;31m:\u001b[0m invalid syntax\n"
     ]
    }
   ],
   "source": [
    "Both map() and list comprehensions achieve similar results, but they have different syntax and underlying mechanisms:\n",
    "\n",
    "map():\n",
    "Uses a function and an iterable.\n",
    "Returns an iterator.\n",
    "Can be more concise for simple transformations.\n",
    "List comprehension:\n",
    "Creates a new list directly."
   ]
  },
  {
   "cell_type": "code",
   "execution_count": 80,
   "id": "9161aff3-3a28-4bd2-9881-8167969baf67",
   "metadata": {},
   "outputs": [
    {
     "name": "stdout",
     "output_type": "stream",
     "text": [
      "['ALICE', 'BOB', 'CHARLIE']\n"
     ]
    }
   ],
   "source": [
    "names = [\"Alice\", \"Bob\", \"Charlie\"]\n",
    "uppercase_names = map(str.upper, names)\n",
    "print(list(uppercase_names))"
   ]
  },
  {
   "cell_type": "code",
   "execution_count": 81,
   "id": "cdf061a7-8613-4b7f-b441-d48f5ab0d6db",
   "metadata": {},
   "outputs": [
    {
     "name": "stdout",
     "output_type": "stream",
     "text": [
      "[5, 6, 6]\n"
     ]
    }
   ],
   "source": [
    "words = [\"apple\", \"banana\", \"cherry\"]\n",
    "word_lengths = map(len, words)\n",
    "print(list(word_lengths))"
   ]
  },
  {
   "cell_type": "code",
   "execution_count": 82,
   "id": "a46ef5b4-16e7-473b-96a4-0b61757b4d57",
   "metadata": {},
   "outputs": [
    {
     "name": "stdout",
     "output_type": "stream",
     "text": [
      "[5, 7, 9]\n"
     ]
    }
   ],
   "source": [
    "def add(x, y):\n",
    "    return x + y\n",
    "\n",
    "list1 = [1, 2, 3]\n",
    "list2 = [4, 5, 6]\n",
    "added_values = map(add, list1, list2)\n",
    "print(list(added_values))"
   ]
  },
  {
   "cell_type": "code",
   "execution_count": 83,
   "id": "169f7e0f-54f6-4638-878c-814eb1dfda7f",
   "metadata": {},
   "outputs": [
    {
     "name": "stdout",
     "output_type": "stream",
     "text": [
      "[77.0, 86.0, 95.0]\n"
     ]
    }
   ],
   "source": [
    "def celsius_to_fahrenheit(celsius):\n",
    "    return (celsius * 9/5) + 32\n",
    "\n",
    "temperatures_celsius = [25, 30, 35]\n",
    "temperatures_fahrenheit = map(celsius_to_fahrenheit, temperatures_celsius)\n",
    "print(list(temperatures_fahrenheit))"
   ]
  },
  {
   "cell_type": "code",
   "execution_count": 84,
   "id": "f03bf8dd-8f2d-4b36-9abf-2bc94c67384d",
   "metadata": {},
   "outputs": [
    {
     "name": "stdout",
     "output_type": "stream",
     "text": [
      "[3, 3, 1]\n"
     ]
    }
   ],
   "source": [
    "numbers = [3.14, 2.71, 1.41]\n",
    "rounded_numbers = map(round, numbers)\n",
    "print(list(rounded_numbers))"
   ]
  },
  {
   "cell_type": "code",
   "execution_count": 85,
   "id": "0baf988a-470a-4a37-8aad-456bffc11fa5",
   "metadata": {},
   "outputs": [
    {
     "ename": "SyntaxError",
     "evalue": "invalid syntax (1970736162.py, line 1)",
     "output_type": "error",
     "traceback": [
      "\u001b[1;36m  Cell \u001b[1;32mIn[85], line 1\u001b[1;36m\u001b[0m\n\u001b[1;33m    The reduce() function in Python applies a given function to an iterable and accumulates the result. It takes two arguments: a function and an iterable. The function should take two arguments and return a single value. The reduce() function iterates over the iterable, applying the function to the accumulated result and the current element.\u001b[0m\n\u001b[1;37m        ^\u001b[0m\n\u001b[1;31mSyntaxError\u001b[0m\u001b[1;31m:\u001b[0m invalid syntax\n"
     ]
    }
   ],
   "source": [
    "The reduce() function in Python applies a given function to an iterable and accumulates the result. It takes two arguments: a function and an iterable. The function should take two arguments and return a single value. The reduce() function iterates over the iterable, applying the function to the accumulated result and the current element.\n",
    "\n",
    "You need to import the functools module to use the reduce() function."
   ]
  },
  {
   "cell_type": "code",
   "execution_count": 86,
   "id": "540606ba-fe0a-47ef-a97e-01ccf7f19af6",
   "metadata": {},
   "outputs": [
    {
     "name": "stdout",
     "output_type": "stream",
     "text": [
      "120\n"
     ]
    }
   ],
   "source": [
    "from functools import reduce\n",
    "\n",
    "def multiply(x, y):\n",
    "    return x * y\n",
    "\n",
    "numbers = [1, 2, 3, 4, 5]\n",
    "product = reduce(multiply, numbers)\n",
    "print(product)"
   ]
  },
  {
   "cell_type": "code",
   "execution_count": 87,
   "id": "3073e26e-8640-4358-98d7-dd2249e2e589",
   "metadata": {},
   "outputs": [
    {
     "name": "stdout",
     "output_type": "stream",
     "text": [
      "5\n"
     ]
    }
   ],
   "source": [
    "from functools import reduce\n",
    "\n",
    "def maximum(x, y):\n",
    "    return max(x, y)\n",
    "\n",
    "numbers = [1, 2, 3, 4, 5]\n",
    "max_number = reduce(maximum, numbers)\n",
    "print(max_number)"
   ]
  },
  {
   "cell_type": "code",
   "execution_count": 88,
   "id": "202ef5e8-3c8b-4980-9436-4a4b10fb1107",
   "metadata": {},
   "outputs": [
    {
     "name": "stdout",
     "output_type": "stream",
     "text": [
      "5\n"
     ]
    }
   ],
   "source": [
    "from functools import reduce\n",
    "\n",
    "def maximum(x, y):\n",
    "    return max(x, y)\n",
    "\n",
    "numbers = [1, 2, 3, 4, 5]\n",
    "max_number = reduce(maximum, numbers)\n",
    "print(max_number)"
   ]
  },
  {
   "cell_type": "code",
   "execution_count": 93,
   "id": "cc11f601-ebae-441a-8b35-8ea3cfe464ac",
   "metadata": {},
   "outputs": [
    {
     "ename": "SyntaxError",
     "evalue": "invalid syntax (3373944225.py, line 1)",
     "output_type": "error",
     "traceback": [
      "\u001b[1;36m  Cell \u001b[1;32mIn[93], line 1\u001b[1;36m\u001b[0m\n\u001b[1;33m    --from functools import reduce\u001b[0m\n\u001b[1;37m      ^\u001b[0m\n\u001b[1;31mSyntaxError\u001b[0m\u001b[1;31m:\u001b[0m invalid syntax\n"
     ]
    }
   ],
   "source": [
    "--from functools import reduce\n",
    "\n",
    "def multiply(x, y):\n",
    "    return x * y\n",
    "\n",
    "n = 5\n",
    "factorial = reduce(multiply, range(1, n+1))\n",
    "print(factorial)"
   ]
  },
  {
   "cell_type": "code",
   "execution_count": 91,
   "id": "7ce3c8f2-6734-418b-b3d0-7ea5841ee3fe",
   "metadata": {},
   "outputs": [
    {
     "name": "stdout",
     "output_type": "stream",
     "text": [
      "12\n"
     ]
    }
   ],
   "source": [
    "from functools import reduce\n",
    "\n",
    "def gcd(x, y):\n",
    "    while y:\n",
    "        x, y = y, x % y\n",
    "    return x\n",
    "\n",
    "numbers = [12, 24, 36]\n",
    "gcd_value = reduce(gcd, numbers)\n",
    "print(gcd_value)"
   ]
  },
  {
   "cell_type": "code",
   "execution_count": 94,
   "id": "6ac1d63f-11d6-45c7-b4b3-66e853b95174",
   "metadata": {},
   "outputs": [
    {
     "name": "stdout",
     "output_type": "stream",
     "text": [
      "12\n"
     ]
    }
   ],
   "source": [
    "from functools import reduce\n",
    "\n",
    "def gcd(x, y):\n",
    "    while y:\n",
    "        x, y = y, x % y\n",
    "    return x\n",
    "\n",
    "numbers = [12, 24, 36]\n",
    "gcd_value = reduce(gcd, numbers)\n",
    "print(gcd_value)"
   ]
  },
  {
   "cell_type": "code",
   "execution_count": 142,
   "id": "114edf3a-fe78-4f95-ac9c-c93e1d772398",
   "metadata": {},
   "outputs": [
    {
     "name": "stdout",
     "output_type": "stream",
     "text": [
      "[2, 4]\n"
     ]
    }
   ],
   "source": [
    "def is_even(x):\n",
    "    return x % 2 == 0\n",
    "\n",
    "numbers = [1, 2, 3, 4, 5]\n",
    "even_numbers = filter(is_even, numbers)\n",
    "print(list(even_numbers))"
   ]
  },
  {
   "cell_type": "code",
   "execution_count": 96,
   "id": "34ca5c11-f15a-4a06-8264-6bd87cc738a2",
   "metadata": {},
   "outputs": [
    {
     "name": "stdout",
     "output_type": "stream",
     "text": [
      "[2, 4]\n"
     ]
    }
   ],
   "source": [
    "numbers = [1, 2, 3, 4, 5]\n",
    "even_numbers = filter(lambda x: x % 2 == 0, numbers)\n",
    "print(list(even_numbers))"
   ]
  },
  {
   "cell_type": "code",
   "execution_count": 97,
   "id": "6f11d212-0294-43b1-9c54-680aabc5108d",
   "metadata": {},
   "outputs": [
    {
     "name": "stdout",
     "output_type": "stream",
     "text": [
      "['Alice']\n"
     ]
    }
   ],
   "source": [
    "names = [\"Alice\", \"Bob\", \"Charlie\"]\n",
    "names_starting_with_a = filter(lambda x: x.startswith(\"A\"), names)\n",
    "print(list(names_starting_with_a))"
   ]
  },
  {
   "cell_type": "code",
   "execution_count": 98,
   "id": "112c7938-bdea-4b4e-8a23-76b36f960e4a",
   "metadata": {},
   "outputs": [
    {
     "name": "stdout",
     "output_type": "stream",
     "text": [
      "[2, 3, 5, 7]\n"
     ]
    }
   ],
   "source": [
    "def is_prime(n):\n",
    "    if n <= 1:\n",
    "        return False\n",
    "    if n <= 3:\n",
    "        return True\n",
    "    if n % 2 == 0 or n % 3 == 0:\n",
    "        return False\n",
    "    i = 5\n",
    "    while i * i <= n:\n",
    "        if n % i == 0 or n % (i + 2) == 0:\n",
    "            return False\n",
    "        i += 6\n",
    "    return True\n",
    "\n",
    "numbers = [1, 2, 3, 4, 5, 6, 7, 8, 9, 10]\n",
    "prime_numbers = filter(is_prime, numbers)\n",
    "print(list(prime_numbers))"
   ]
  },
  {
   "cell_type": "code",
   "execution_count": 99,
   "id": "cebf0e08-5668-46f5-b382-bd9e0a92a865",
   "metadata": {},
   "outputs": [
    {
     "name": "stdout",
     "output_type": "stream",
     "text": [
      "[1, 2, 3]\n"
     ]
    }
   ],
   "source": [
    "values = [1, None, 2, None, 3]\n",
    "non_none_values = filter(lambda x: x is not None, values)\n",
    "print(list(non_none_values))"
   ]
  },
  {
   "cell_type": "code",
   "execution_count": 100,
   "id": "b660488b-e489-4ece-9a13-47c092980403",
   "metadata": {},
   "outputs": [
    {
     "name": "stdout",
     "output_type": "stream",
     "text": [
      "['banana', 'cherry']\n"
     ]
    }
   ],
   "source": [
    "words = [\"apple\", \"banana\", \"cherry\"]\n",
    "long_words = filter(lambda x: len(x) > 5, words)\n",
    "print(list(long_words))"
   ]
  },
  {
   "cell_type": "code",
   "execution_count": 101,
   "id": "d3548a55-8c0d-4457-b68b-f31e82ed30f3",
   "metadata": {},
   "outputs": [
    {
     "name": "stdout",
     "output_type": "stream",
     "text": [
      "[4, 5]\n"
     ]
    }
   ],
   "source": [
    "values = [1, 2, 3, 4, 5]\n",
    "values_greater_than_3 = filter(lambda x: x > 3, values)\n",
    "print(list(values_greater_than_3))"
   ]
  },
  {
   "cell_type": "code",
   "execution_count": 105,
   "id": "3c6b5ad3-921f-47c0-8dcd-78c059122654",
   "metadata": {},
   "outputs": [
    {
     "data": {
      "text/plain": [
       "\"1. Concept of recursion:\\n\\nRecursion is a programming technique where a function calls itself directly or indirectly. It's often used to solve problems that can be broken down into smaller subproblems of the same type.\""
      ]
     },
     "execution_count": 105,
     "metadata": {},
     "output_type": "execute_result"
    }
   ],
   "source": [
    "'''1. Concept of recursion:\n",
    "\n",
    "Recursion is a programming technique where a function calls itself directly or indirectly. It's often used to solve problems that can be broken down into smaller subproblems of the same type.'''"
   ]
  },
  {
   "cell_type": "code",
   "execution_count": 106,
   "id": "091fb9ef-da56-454f-92f8-e24207ce6c9d",
   "metadata": {},
   "outputs": [
    {
     "name": "stdout",
     "output_type": "stream",
     "text": [
      "120\n"
     ]
    }
   ],
   "source": [
    "def factorial(n):\n",
    "    if n == 0:\n",
    "        return 1\n",
    "    else:\n",
    "        return n * factorial(n - 1)\n",
    "\n",
    "n = 5\n",
    "result = factorial(n)\n",
    "print(result)"
   ]
  },
  {
   "cell_type": "code",
   "execution_count": 107,
   "id": "430030aa-2ed0-49b9-8603-5acb6f16352b",
   "metadata": {},
   "outputs": [
    {
     "name": "stdout",
     "output_type": "stream",
     "text": [
      "5\n"
     ]
    }
   ],
   "source": [
    "def fibonacci(n):\n",
    "    if n <= 0:\n",
    "        return 0\n",
    "    elif n == 1:\n",
    "        return 1\n",
    "    else:\n",
    "        return fibonacci(n - 1) + fibonacci(n - 2)\n",
    "\n",
    "n = 5\n",
    "result = fibonacci(n)\n",
    "print(result)"
   ]
  },
  {
   "cell_type": "code",
   "execution_count": 108,
   "id": "9a24ef40-a875-4279-b1e3-956a1bdd8eca",
   "metadata": {},
   "outputs": [
    {
     "name": "stdout",
     "output_type": "stream",
     "text": [
      "15\n"
     ]
    }
   ],
   "source": [
    "def sum_list(lst):\n",
    "    if not lst:\n",
    "        return 0\n",
    "    else:\n",
    "        return lst[0] + sum_list(lst[1:])\n",
    "\n",
    "lst = [1, 2, 3, 4, 5]\n",
    "result = sum_list(lst)\n",
    "print(result)"
   ]
  },
  {
   "cell_type": "code",
   "execution_count": 110,
   "id": "e1152753-9da3-42fb-bf42-98721c663340",
   "metadata": {},
   "outputs": [
    {
     "data": {
      "text/plain": [
       "'To prevent infinite recursion, ensure that the recursive function has a base case that terminates the recursion. This base case should be a simple condition that can be easily evaluated and returns a result without making further recursive calls.'"
      ]
     },
     "execution_count": 110,
     "metadata": {},
     "output_type": "execute_result"
    }
   ],
   "source": [
    "'''To prevent infinite recursion, ensure that the recursive function has a base case that terminates the recursion. This base case should be a simple condition that can be easily evaluated and returns a result without making further recursive calls.'''"
   ]
  },
  {
   "cell_type": "code",
   "execution_count": 111,
   "id": "b570063b-3a0e-4c74-8275-5f3ae97d85c3",
   "metadata": {},
   "outputs": [
    {
     "name": "stdout",
     "output_type": "stream",
     "text": [
      "6\n"
     ]
    }
   ],
   "source": [
    "def gcd(a, b):\n",
    "    if b == 0:\n",
    "        return a\n",
    "    else:\n",
    "        return gcd(b, a % b)\n",
    "\n",
    "a = 12\n",
    "b = 18\n",
    "result = gcd(a, b)\n",
    "print(result)"
   ]
  },
  {
   "cell_type": "code",
   "execution_count": 112,
   "id": "7e4c788d-b843-4e06-8cc8-f8712ea18fe1",
   "metadata": {},
   "outputs": [
    {
     "name": "stdout",
     "output_type": "stream",
     "text": [
      "olleh\n"
     ]
    }
   ],
   "source": [
    "def reverse_string(s):\n",
    "    if len(s) <= 1:\n",
    "        return s\n",
    "    else:\n",
    "        return reverse_string(s[1:]) + s[0]\n",
    "\n",
    "s = \"hello\"\n",
    "result = reverse_string(s)\n",
    "print(result)"
   ]
  },
  {
   "cell_type": "code",
   "execution_count": 113,
   "id": "bef4d222-45d2-4200-aa11-6decb5431a71",
   "metadata": {},
   "outputs": [
    {
     "name": "stdout",
     "output_type": "stream",
     "text": [
      "8\n"
     ]
    }
   ],
   "source": [
    "def power(x, n):\n",
    "    if n == 0:\n",
    "        return 1\n",
    "    else:\n",
    "        return x * power(x, n - 1)\n",
    "\n",
    "x = 2\n",
    "n = 3\n",
    "result = power(x, n)\n",
    "print(result)"
   ]
  },
  {
   "cell_type": "code",
   "execution_count": 114,
   "id": "b381d950-594e-469a-af9f-44a4e9b91729",
   "metadata": {},
   "outputs": [
    {
     "name": "stdout",
     "output_type": "stream",
     "text": [
      "['abc', 'acb', 'bac', 'bca', 'cab', 'cba']\n"
     ]
    }
   ],
   "source": [
    "def permutations(s):\n",
    "    if len(s) == 0:\n",
    "        return [\"\"]\n",
    "    else:\n",
    "        perms = []\n",
    "        for i in range(len(s)):\n",
    "            remaining = s[:i] + s[i+1:]\n",
    "            subperms = permutations(remaining)\n",
    "            for subperm in subperms:\n",
    "                perms.append(s[i] + subperm)\n",
    "        return perms\n",
    "\n",
    "s = \"abc\"\n",
    "result = permutations(s)\n",
    "print(result)"
   ]
  },
  {
   "cell_type": "code",
   "execution_count": 115,
   "id": "2c69bec4-0d8e-46b6-84c2-ccc6544c2985",
   "metadata": {},
   "outputs": [
    {
     "name": "stdout",
     "output_type": "stream",
     "text": [
      "True\n"
     ]
    }
   ],
   "source": [
    "def is_palindrome(s):\n",
    "    if len(s) <= 1:\n",
    "        return True\n",
    "    else:\n",
    "        return s[0] == s[-1] and is_palindrome(s[1:-1])\n",
    "\n",
    "s = \"racecar\"\n",
    "result = is_palindrome(s)\n",
    "print(result)"
   ]
  },
  {
   "cell_type": "code",
   "execution_count": 116,
   "id": "78106292-d6ee-4adf-9ad7-28a92d067b27",
   "metadata": {},
   "outputs": [
    {
     "name": "stdout",
     "output_type": "stream",
     "text": [
      "[[1, 2, 3], [1, 3, 2], [2, 1, 3], [2, 3, 1], [3, 1, 2], [3, 2, 1]]\n"
     ]
    }
   ],
   "source": [
    "def combinations(lst):\n",
    "    if len(lst) == 0:\n",
    "        return [[]]\n",
    "    else:\n",
    "        combs = []\n",
    "        for i in range(len(lst)):\n",
    "            subcombs = combinations(lst[:i] + lst[i+1:])\n",
    "            for subcomb in subcombs:\n",
    "                combs.append([lst[i]] + subcomb)\n",
    "        return combs\n",
    "\n",
    "lst = [1, 2, 3]\n",
    "result = combinations(lst)\n",
    "print(result)"
   ]
  },
  {
   "cell_type": "code",
   "execution_count": 143,
   "id": "61e679ae-8a6d-4e43-b296-bbf820938621",
   "metadata": {},
   "outputs": [
    {
     "name": "stdout",
     "output_type": "stream",
     "text": [
      "Hello, Alice!\n"
     ]
    }
   ],
   "source": [
    "def greet(name):\n",
    "    print(\"Hello, \" + name + \"!\")\n",
    "\n",
    "greet(\"Alice\")"
   ]
  },
  {
   "cell_type": "code",
   "execution_count": 118,
   "id": "a7597b05-c05e-4a27-8867-aedee51ac320",
   "metadata": {},
   "outputs": [
    {
     "ename": "SyntaxError",
     "evalue": "unterminated string literal (detected at line 3) (2382483692.py, line 3)",
     "output_type": "error",
     "traceback": [
      "\u001b[1;36m  Cell \u001b[1;32mIn[118], line 3\u001b[1;36m\u001b[0m\n\u001b[1;33m    Function definition: This is where you create the function's code and give it a name.\u001b[0m\n\u001b[1;37m                                                              ^\u001b[0m\n\u001b[1;31mSyntaxError\u001b[0m\u001b[1;31m:\u001b[0m unterminated string literal (detected at line 3)\n"
     ]
    }
   ],
   "source": [
    " Difference between function definition and function call:\n",
    "\n",
    "Function definition: This is where you create the function's code and give it a name.\n",
    "Function call: This is when you invoke the function to execute "
   ]
  },
  {
   "cell_type": "code",
   "execution_count": 144,
   "id": "ae458030-628f-40ab-84a8-2a6c859a53b3",
   "metadata": {},
   "outputs": [
    {
     "name": "stdout",
     "output_type": "stream",
     "text": [
      "8\n"
     ]
    }
   ],
   "source": [
    "def calculate_sum(num1, num2):\n",
    "    return num1 + num2\n",
    "\n",
    "result = calculate_sum(5, 3)\n",
    "print(result) "
   ]
  },
  {
   "cell_type": "code",
   "execution_count": 123,
   "id": "3725714f-7ab2-493f-b6bb-e728d6291884",
   "metadata": {},
   "outputs": [
    {
     "data": {
      "text/plain": [
       "'The function signature is the first line of the function definition, including the function name, parameters, and return type (if specified). It provides information about how to call the function.'"
      ]
     },
     "execution_count": 123,
     "metadata": {},
     "output_type": "execute_result"
    }
   ],
   "source": [
    "'''The function signature is the first line of the function definition, including the function name, parameters, and return type (if specified). It provides information about how to call the function.'''"
   ]
  },
  {
   "cell_type": "code",
   "execution_count": 145,
   "id": "71e74747-c199-4741-9361-729d807b7e7f",
   "metadata": {},
   "outputs": [
    {
     "name": "stdout",
     "output_type": "stream",
     "text": [
      "24\n"
     ]
    }
   ],
   "source": [
    "def calculate_product(num1, num2):\n",
    "    return num1 * num2\n",
    "\n",
    "result = calculate_product(4, 6)\n",
    "print(result) "
   ]
  },
  {
   "cell_type": "code",
   "execution_count": 125,
   "id": "c755b9f8-18c8-437b-a12b-d1f2a6bc7cd2",
   "metadata": {},
   "outputs": [
    {
     "data": {
      "text/plain": [
       "'1. Formal parameters and actual arguments:\\n\\nFormal parameters: These are the variables listed in the function definition. They act as placeholders for the actual values that will be passed to the function.\\nActual arguments: These are the values that are passed to the function when it is called. They are assigned to the corresponding formal parameters.'"
      ]
     },
     "execution_count": 125,
     "metadata": {},
     "output_type": "execute_result"
    }
   ],
   "source": [
    "'''1. Formal parameters and actual arguments:\n",
    "\n",
    "Formal parameters: These are the variables listed in the function definition. They act as placeholders for the actual values that will be passed to the function.\n",
    "Actual arguments: These are the values that are passed to the function when it is called. They are assigned to the corresponding formal parameters.'''"
   ]
  },
  {
   "cell_type": "code",
   "execution_count": 146,
   "id": "d528efe0-b3bd-4d12-902e-4f7bb33d535c",
   "metadata": {},
   "outputs": [
    {
     "name": "stdout",
     "output_type": "stream",
     "text": [
      "Hello, Alice!\n",
      "Hi, Bob!\n"
     ]
    }
   ],
   "source": [
    "def greet(name, message=\"Hello\"):\n",
    "    print(message + \", \" + name + \"!\")\n",
    "\n",
    "greet(\"Alice\")  # Output: Hello, Alice!\n",
    "greet(\"Bob\", \"Hi\")  "
   ]
  },
  {
   "cell_type": "code",
   "execution_count": 147,
   "id": "681f838a-385b-4fb0-ab90-ed2dd179d51d",
   "metadata": {},
   "outputs": [
    {
     "name": "stdout",
     "output_type": "stream",
     "text": [
      "Hi, Alice!\n"
     ]
    }
   ],
   "source": [
    "def greet(name, message):\n",
    "    print(message + \", \" + name + \"!\")\n",
    "\n",
    "greet(message=\"Hi\", name=\"Alice\")  "
   ]
  },
  {
   "cell_type": "code",
   "execution_count": 128,
   "id": "84c762dd-b69b-4f5d-82f8-3b91bb127aaa",
   "metadata": {},
   "outputs": [
    {
     "name": "stdout",
     "output_type": "stream",
     "text": [
      "15\n"
     ]
    }
   ],
   "source": [
    "def calculate_sum(*args):\n",
    "    total = 0\n",
    "    for num in args:\n",
    "        total += num\n",
    "    return total\n",
    "\n",
    "result = calculate_sum(1, 2, 3, 4, 5)\n",
    "print(result)  "
   ]
  },
  {
   "cell_type": "code",
   "execution_count": 130,
   "id": "3436ed02-e93d-40f1-a52a-f78e9ddec027",
   "metadata": {},
   "outputs": [
    {
     "data": {
      "text/plain": [
       "'*args and **kwargs:\\n\\n*args collects a variable number of positional arguments into a tuple.\\n**kwargs collects a variable number of keyword arguments into a dictionary.\\nReturn Values and Scoping:\\n\\n1. return statement:\\n\\nThe return statement is used to specify the value that a function will return. It can also be used to exit the function early.'"
      ]
     },
     "execution_count": 130,
     "metadata": {},
     "output_type": "execute_result"
    }
   ],
   "source": [
    "'''*args and **kwargs:\n",
    "\n",
    "*args collects a variable number of positional arguments into a tuple.\n",
    "**kwargs collects a variable number of keyword arguments into a dictionary.\n",
    "Return Values and Scoping:\n",
    "\n",
    "1. return statement:\n",
    "\n",
    "The return statement is used to specify the value that a function will return. It can also be used to exit the function early.'''"
   ]
  },
  {
   "cell_type": "code",
   "execution_count": 131,
   "id": "33fc2597-3358-4071-bcd9-4cd3d38e21b9",
   "metadata": {},
   "outputs": [
    {
     "data": {
      "text/plain": [
       "'Variable scope:\\n\\nLocal variables: Variables defined within a function have local scope, meaning they are only accessible within that function.\\nGlobal variables: Variables defined outside of any function have global scope, meaning they can be accessed from anywhere in the program.'"
      ]
     },
     "execution_count": 131,
     "metadata": {},
     "output_type": "execute_result"
    }
   ],
   "source": [
    "'''Variable scope:\n",
    "\n",
    "Local variables: Variables defined within a function have local scope, meaning they are only accessible within that function.\n",
    "Global variables: Variables defined outside of any function have global scope, meaning they can be accessed from anywhere in the program.'''"
   ]
  },
  {
   "cell_type": "code",
   "execution_count": 148,
   "id": "c685b330-454b-49c3-b934-77654d2c3d1e",
   "metadata": {},
   "outputs": [
    {
     "name": "stdout",
     "output_type": "stream",
     "text": [
      "15\n"
     ]
    }
   ],
   "source": [
    "global_var = 10\n",
    "\n",
    "def modify_global_var():\n",
    "    global global_var\n",
    "    global_var += 5\n",
    "\n",
    "modify_global_var()\n",
    "print(global_var)  "
   ]
  },
  {
   "cell_type": "code",
   "execution_count": 149,
   "id": "d4464243-3bac-48ca-aa97-fce738ebbf85",
   "metadata": {},
   "outputs": [
    {
     "name": "stdout",
     "output_type": "stream",
     "text": [
      "120\n"
     ]
    }
   ],
   "source": [
    "def calculate_factorial(n):\n",
    "    if n == 0:\n",
    "        return 1\n",
    "    else:\n",
    "        return n * calculate_factorial(n - 1)\n",
    "\n",
    "result = calculate_factorial(5)\n",
    "print(result)"
   ]
  },
  {
   "cell_type": "code",
   "execution_count": 134,
   "id": "fe24f85f-915a-4914-87a3-12a13eb8cdb2",
   "metadata": {},
   "outputs": [
    {
     "data": {
      "text/plain": [
       "'To access variables defined outside a function, you can simply use their names within the function. However, if you need to modify a global variable within a function, you must use the global keyword.\\n\\nLambda Functions and Higher-Order Functions:\\n\\n1. Lambda functions:\\n\\nLambda functions are small, anonymous functions defined using the lambda keyword. They are often used for simple expressions.'"
      ]
     },
     "execution_count": 134,
     "metadata": {},
     "output_type": "execute_result"
    }
   ],
   "source": [
    "'''To access variables defined outside a function, you can simply use their names within the function. However, if you need to modify a global variable within a function, you must use the global keyword.\n",
    "\n",
    "Lambda Functions and Higher-Order Functions:\n",
    "\n",
    "1. Lambda functions:\n",
    "\n",
    "Lambda functions are small, anonymous functions defined using the lambda keyword. They are often used for simple expressions.'''"
   ]
  },
  {
   "cell_type": "code",
   "execution_count": 150,
   "id": "07f0cdff-977d-4543-8233-dab4594ced9e",
   "metadata": {},
   "outputs": [
    {
     "name": "stdout",
     "output_type": "stream",
     "text": [
      "[(2, 1), (3, 2), (1, 3)]\n"
     ]
    }
   ],
   "source": [
    "tuples = [(1, 3), (2, 1), (3, 2)]\n",
    "sorted_tuples = sorted(tuples, key=lambda x: x[1])\n",
    "print(sorted_tuples)"
   ]
  },
  {
   "cell_type": "code",
   "execution_count": 136,
   "id": "b1cecef0-1576-4eea-8b2b-4b53d9c2f836",
   "metadata": {},
   "outputs": [
    {
     "data": {
      "text/plain": [
       "'Higher-order functions:\\n\\nHigher-order functions are functions that take other functions as arguments or return functions as results.'"
      ]
     },
     "execution_count": 136,
     "metadata": {},
     "output_type": "execute_result"
    }
   ],
   "source": [
    "'''Higher-order functions:\n",
    "\n",
    "Higher-order functions are functions that take other functions as arguments or return functions as results.'''"
   ]
  },
  {
   "cell_type": "code",
   "execution_count": 137,
   "id": "dd65f656-9595-416a-8d64-c455a16391c3",
   "metadata": {},
   "outputs": [
    {
     "data": {
      "text/plain": [
       "'len(), max(), min():\\n\\nlen(): Returns the length of an object (e.g., a string, list, tuple).\\nmax(): Returns the maximum value in an iterable.\\nmin(): Returns the minimum value in an iterable.'"
      ]
     },
     "execution_count": 137,
     "metadata": {},
     "output_type": "execute_result"
    }
   ],
   "source": [
    "'''len(), max(), min():\n",
    "\n",
    "len(): Returns the length of an object (e.g., a string, list, tuple).\n",
    "max(): Returns the maximum value in an iterable.\n",
    "min(): Returns the minimum value in an iterable.'''"
   ]
  },
  {
   "cell_type": "code",
   "execution_count": 138,
   "id": "6c478a37-f7ff-4acc-9c4a-5f2258ae889a",
   "metadata": {},
   "outputs": [
    {
     "data": {
      "text/plain": [
       "'numbers = [1, 2, 3, 4, 5]\\nsquared_numbers = map(lambda x: x * x, numbers)\\nprint(list(squared_numbers))  # Output: [1, 4, 9, 16, 25]'"
      ]
     },
     "execution_count": 138,
     "metadata": {},
     "output_type": "execute_result"
    }
   ],
   "source": [
    "'''numbers = [1, 2, 3, 4, 5]\n",
    "squared_numbers = map(lambda x: x * x, numbers)\n",
    "print(list(squared_numbers))  # Output: [1, 4, 9, 16, 25]'''"
   ]
  },
  {
   "cell_type": "code",
   "execution_count": 139,
   "id": "0ef5e18d-7067-47fa-ada5-ed0f9c18fcd8",
   "metadata": {},
   "outputs": [
    {
     "data": {
      "text/plain": [
       "'numbers = [1, 2, 3, 4, 5]\\neven_numbers = filter(lambda x: x % 2 == 0, numbers)\\nprint(list(even_numbers))  # Output: [2, 4]'"
      ]
     },
     "execution_count": 139,
     "metadata": {},
     "output_type": "execute_result"
    }
   ],
   "source": [
    "'''numbers = [1, 2, 3, 4, 5]\n",
    "even_numbers = filter(lambda x: x % 2 == 0, numbers)\n",
    "print(list(even_numbers))  # Output: [2, 4]'''"
   ]
  },
  {
   "cell_type": "code",
   "execution_count": 140,
   "id": "46b85a0c-7f3a-4c8f-b5a8-a055aa3652ab",
   "metadata": {},
   "outputs": [
    {
     "data": {
      "text/plain": [
       "'from functools import reduce\\n\\nnumbers = [1, 2, 3, 4, 5]\\nproduct = reduce(lambda x, y: x * y, numbers)\\nprint(product)  # Output: 120'"
      ]
     },
     "execution_count": 140,
     "metadata": {},
     "output_type": "execute_result"
    }
   ],
   "source": [
    "'''from functools import reduce\n",
    "\n",
    "numbers = [1, 2, 3, 4, 5]\n",
    "product = reduce(lambda x, y: x * y, numbers)\n",
    "print(product)  # Output: 120'''"
   ]
  },
  {
   "cell_type": "code",
   "execution_count": null,
   "id": "c3c5b78a-5de4-4281-a5d7-738540d5e1e5",
   "metadata": {},
   "outputs": [],
   "source": []
  }
 ],
 "metadata": {
  "kernelspec": {
   "display_name": "Python 3 (ipykernel)",
   "language": "python",
   "name": "python3"
  },
  "language_info": {
   "codemirror_mode": {
    "name": "ipython",
    "version": 3
   },
   "file_extension": ".py",
   "mimetype": "text/x-python",
   "name": "python",
   "nbconvert_exporter": "python",
   "pygments_lexer": "ipython3",
   "version": "3.12.4"
  }
 },
 "nbformat": 4,
 "nbformat_minor": 5
}
